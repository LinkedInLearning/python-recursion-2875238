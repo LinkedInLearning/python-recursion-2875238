{
 "cells": [
  {
   "attachments": {
    "5b70cb89-89cd-4899-9c8b-f26f6dd5471a.png": {
     "image/png": "[encoded data removed]"
    }
   },
   "cell_type": "markdown",
   "id": "2548e10b-b3f4-4a52-9c22-d8c63c816b0a",
   "metadata": {},
   "source": [
    "![Screenshot 2024-01-16 at 7.04.44 PM.png](attachment:5b70cb89-89cd-4899-9c8b-f26f6dd5471a.png)"
   ]
  },
  {
   "cell_type": "markdown",
   "id": "9bda0dd9-9dcb-48c6-b70d-904223cd16a0",
   "metadata": {},
   "source": [
    "## Task 1"
   ]
  },
  {
   "cell_type": "code",
   "execution_count": 12,
   "id": "75327cb9-abe7-44f0-a81d-4386db7bd0d8",
   "metadata": {},
   "outputs": [
    {
     "name": "stdout",
     "output_type": "stream",
     "text": [
      "720\n"
     ]
    }
   ],
   "source": [
    "def factorial(n):\n",
    "    if n <= 1:\n",
    "        # Base case\n",
    "        return 1\n",
    "    else:\n",
    "        # Recursive case\n",
    "        return n * factorial(n - 1)\n",
    "\n",
    "print(factorial(5))\n"
   ]
  },
  {
   "cell_type": "code",
   "execution_count": 13,
   "id": "b15713f1-0cd9-4812-a94e-18103b89a6dc",
   "metadata": {},
   "outputs": [
    {
     "name": "stdout",
     "output_type": "stream",
     "text": [
      "Great job!\n"
     ]
    }
   ],
   "source": [
    "def factorial(n):\n",
    "    if n <= 1:\n",
    "        # Base case\n",
    "        return 1\n",
    "    else:\n",
    "        # Recursive case\n",
    "        return n * factorial(n - 1)\n",
    "\n",
    "assert factorial(1) == 1\n",
    "assert factorial(2) == 2\n",
    "assert factorial(3) == 6\n",
    "assert factorial(4) == 24\n",
    "assert factorial(5) == 120\n",
    "assert factorial(6) == 720\n",
    "print('Great job!')"
   ]
  },
  {
   "cell_type": "markdown",
   "id": "76e74652-0220-4971-a83a-246ae5113d11",
   "metadata": {},
   "source": [
    "# Task 2"
   ]
  },
  {
   "cell_type": "code",
   "execution_count": 16,
   "id": "e951f3a0-c6ab-4c7b-8636-02c3f0c244b4",
   "metadata": {},
   "outputs": [
    {
     "name": "stdout",
     "output_type": "stream",
     "text": [
      "Great job!\n"
     ]
    }
   ],
   "source": [
    "def fibonacci_recursive(n):\n",
    "    if n < 2:\n",
    "        return n\n",
    "    return fibonacci_recursive(n - 1) + fibonacci_recursive(n - 2)\n",
    "\n",
    "assert fibonacci_recursive(0) == 0\n",
    "assert fibonacci_recursive(1) == 1\n",
    "assert fibonacci_recursive(2) == 1\n",
    "assert fibonacci_recursive(3) == 2\n",
    "assert fibonacci_recursive(4) == 3\n",
    "assert fibonacci_recursive(5) == 5\n",
    "assert fibonacci_recursive(6) == 8\n",
    "assert fibonacci_recursive(7) == 13\n",
    "assert fibonacci_recursive(8) == 21\n",
    "assert fibonacci_recursive(9) == 34\n",
    "print('Great job!')"
   ]
  },
  {
   "cell_type": "markdown",
   "id": "7a95af65-aecc-4f13-ad7a-8004091bb98d",
   "metadata": {},
   "source": [
    "# Task 3"
   ]
  },
  {
   "cell_type": "code",
   "execution_count": 5,
   "id": "2622b313-d410-4793-a3b5-8dbecad85718",
   "metadata": {},
   "outputs": [
    {
     "name": "stdout",
     "output_type": "stream",
     "text": [
      "Great job!\n"
     ]
    }
   ],
   "source": [
    "def list_sum(a_list):\n",
    "    result = 0 \n",
    "    for val in a_list:\n",
    "        result += val\n",
    "    return result\n",
    "\n",
    "\n",
    "def list_sum_recursive(a_list):\n",
    "    if len(a_list) == 0:\n",
    "        return 0\n",
    "    return a_list[0] + list_sum_recursive(a_list[1:])\n",
    "\n",
    "\n",
    "assert list_sum([2, 3, 5, 7]) == 17\n",
    "assert list_sum([-4, -3, -2, -1, 10]) == 0\n",
    "\n",
    "assert list_sum_recursive([2, 3, 5, 7]) == 17\n",
    "assert list_sum_recursive([-4, -3, -2, -1, 10]) == 0\n",
    "assert list_sum_recursive([]) == 0\n",
    "assert list_sum_recursive([3]) == 3\n",
    "assert list_sum_recursive([-5, -3]) == -8\n",
    "print('Great job!')"
   ]
  },
  {
   "cell_type": "code",
   "execution_count": 3,
   "id": "49957061-8b70-4512-86df-72cf9e834b34",
   "metadata": {},
   "outputs": [
    {
     "name": "stdout",
     "output_type": "stream",
     "text": [
      "Current Working Directory: /Users/rosendo/IU-data-science/data_structures_python/python-recursion-2875238\n"
     ]
    }
   ],
   "source": [
    "import os\n",
    "print(\"Current Working Directory:\", os.getcwd())"
   ]
  },
  {
   "cell_type": "code",
   "execution_count": 6,
   "id": "d62981a5-501c-48d1-88eb-2f7c8d3fdf1b",
   "metadata": {},
   "outputs": [
    {
     "name": "stdout",
     "output_type": "stream",
     "text": [
      "|-- gcd_recursive(32, 12)\n",
      "|  |-- gcd_recursive(12, 8)\n",
      "|  |  |-- gcd_recursive(8, 4)\n",
      "|  |  |  |-- gcd_recursive(4, 0)\n",
      "|  |  |  |  |-- return 4\n",
      "|  |  |  |-- return 4\n",
      "|  |  |-- return 4\n",
      "|  |-- return 4\n",
      "4\n",
      "|-- gcd_recursive(50, 15)\n",
      "|  |-- gcd_recursive(15, 5)\n",
      "|  |  |-- gcd_recursive(5, 0)\n",
      "|  |  |  |-- return 5\n",
      "|  |  |-- return 5\n",
      "|  |-- return 5\n",
      "5\n",
      "|-- gcd_recursive(42, 28)\n",
      "|  |-- gcd_recursive(28, 14)\n",
      "|  |  |-- gcd_recursive(14, 0)\n",
      "|  |  |  |-- return 14\n",
      "|  |  |-- return 14\n",
      "|  |-- return 14\n",
      "14\n",
      "|-- gcd_recursive(28, 42)\n",
      "|  |-- gcd_recursive(42, 28)\n",
      "|  |  |-- gcd_recursive(28, 14)\n",
      "|  |  |  |-- gcd_recursive(14, 0)\n",
      "|  |  |  |  |-- return 14\n",
      "|  |  |  |-- return 14\n",
      "|  |  |-- return 14\n",
      "|  |-- return 14\n",
      "14\n",
      "|-- gcd_recursive(345, 766)\n",
      "|  |-- gcd_recursive(766, 345)\n",
      "|  |  |-- gcd_recursive(345, 76)\n",
      "|  |  |  |-- gcd_recursive(76, 41)\n",
      "|  |  |  |  |-- gcd_recursive(41, 35)\n",
      "|  |  |  |  |  |-- gcd_recursive(35, 6)\n",
      "|  |  |  |  |  |  |-- gcd_recursive(6, 5)\n",
      "|  |  |  |  |  |  |  |-- gcd_recursive(5, 1)\n",
      "|  |  |  |  |  |  |  |  |-- gcd_recursive(1, 0)\n",
      "|  |  |  |  |  |  |  |  |  |-- return 1\n",
      "|  |  |  |  |  |  |  |  |-- return 1\n",
      "|  |  |  |  |  |  |  |-- return 1\n",
      "|  |  |  |  |  |  |-- return 1\n",
      "|  |  |  |  |  |-- return 1\n",
      "|  |  |  |  |-- return 1\n",
      "|  |  |  |-- return 1\n",
      "|  |  |-- return 1\n",
      "|  |-- return 1\n",
      "1\n"
     ]
    }
   ],
   "source": [
    "import sys\n",
    "# import os\n",
    "\n",
    "# # Get the absolute path of the parent directory\n",
    "# parent_dir = os.path.abspath(os.path.join(os.getcwd(), '..'))\n",
    "# sys.path.append(parent_dir)\n",
    "sys.path.append(\"..\")  # Adds higher directory to python modules path.\n",
    "from trace_recursion import trace\n",
    "\n",
    "\n",
    "def gcd_recursive(a, b):\n",
    "    if b == 0:\n",
    "        # Base case\n",
    "        return a\n",
    "    else:\n",
    "        # Recursive case\n",
    "        return gcd_recursive(b, a % b)\n",
    "\n",
    "gcd_recursive = trace(gcd_recursive)\n",
    "print(gcd_recursive(32, 12))  # From slides\n",
    "print(gcd_recursive(50, 15))\n",
    "print(gcd_recursive(42, 28))\n",
    "print(gcd_recursive(28, 42))\n",
    "print(gcd_recursive(345, 766))  # Co-prime"
   ]
  },
  {
   "cell_type": "code",
   "execution_count": null,
   "id": "7c83b49e-8b0a-4596-aa39-dbbd9f167105",
   "metadata": {},
   "outputs": [],
   "source": [
    "def multiply_recursive(n, a):\n",
    "    # Base case\n",
    "    if n == 1:\n",
    "        return a\n",
    "    # \n",
    "    return multiply_recursive(n-1, a) + a\n",
    "        \n",
    "\n",
    "assert multiply_recursive(5, 4) == 20  # 5 is the multiplier, 4 is the multiplicand\n",
    "assert multiply_recursive(5, -4) == -20  # 5 is the multiplier, -4 is the multiplicand\n",
    "assert multiply_recursive(1, 4) == 4  # 1 is the multiplier, 4 is the multiplicand\n",
    "assert multiply_recursive(7, 8) == 56  # 7 is the multiplier, 8 is the multiplicand"
   ]
  },
  {
   "cell_type": "code",
   "execution_count": null,
   "id": "c592713c-3d8c-42b5-8907-25f846f199a6",
   "metadata": {},
   "outputs": [],
   "source": [
    "def exp_iterative(a, n):\n",
    "    base = a \n",
    "    for i in range(n-1):\n",
    "        a *= base\n",
    "    return a\n",
    "\n",
    "\n",
    "def exp_recursive(a, n):\n",
    "    if n == 1:\n",
    "        return a\n",
    "    # \n",
    "    return exp_recursive(a, n-1) * a\n",
    "        \n",
    "\n",
    "\n",
    "assert exp_iterative(5, 3) == 125\n",
    "assert exp_iterative(2, 4) == 16\n",
    "assert exp_iterative(1, 19) == 1\n",
    "assert exp_iterative(0, 2) == 0\n",
    "print('Great job!')\n",
    "\n",
    "assert exp_recursive(5, 3) == 125\n",
    "assert exp_recursive(2, 4) == 16\n",
    "assert exp_recursive(1, 19) == 1\n",
    "assert exp_recursive(0, 2) == 0\n",
    "print('Excellent!')"
   ]
  },
  {
   "cell_type": "code",
   "execution_count": null,
   "id": "9d851f8c-90cb-4a7d-93cb-18b0407332e9",
   "metadata": {},
   "outputs": [],
   "source": [
    "def iterative_str_len(a_str):\n",
    "    result = 0\n",
    "    for i in range(len(a_str)):\n",
    "        result += 1 # result = result + 1\n",
    "    return result\n",
    "\n",
    "\n",
    "def recursive_str_len(a_str):\n",
    "    if (a_str) == \"\":\n",
    "        return 0\n",
    "    return recursive_str_len(a_str[1:]) + 1\n",
    "\n",
    "\n",
    "input_str = \"I love recursion\"\n",
    "print(len(input_str))  # Standard Pythonic way\n",
    "print(iterative_str_len(input_str))\n",
    "print(recursive_str_len(input_str))"
   ]
  },
  {
   "cell_type": "code",
   "execution_count": null,
   "id": "9e955b51-cbc9-4187-ae35-fbc49c89c31f",
   "metadata": {},
   "outputs": [],
   "source": []
  },
  {
   "cell_type": "code",
   "execution_count": null,
   "id": "6a7abd4c-6042-41ea-9997-05890ee2a9f7",
   "metadata": {},
   "outputs": [],
   "source": []
  },
  {
   "cell_type": "code",
   "execution_count": null,
   "id": "94953d1c-2642-491e-80e5-5031c7d07072",
   "metadata": {},
   "outputs": [],
   "source": []
  },
  {
   "cell_type": "code",
   "execution_count": null,
   "id": "c43b47c9-25ea-455a-a229-09e53a7a1b4b",
   "metadata": {},
   "outputs": [],
   "source": []
  },
  {
   "cell_type": "code",
   "execution_count": null,
   "id": "1c83ae47-4e32-4e92-b680-75ccc37e0d02",
   "metadata": {},
   "outputs": [],
   "source": []
  }
 ],
 "metadata": {
  "kernelspec": {
   "display_name": "Python 3 (ipykernel)",
   "language": "python",
   "name": "python3"
  },
  "language_info": {
   "codemirror_mode": {
    "name": "ipython",
    "version": 3
   },
   "file_extension": ".py",
   "mimetype": "text/x-python",
   "name": "python",
   "nbconvert_exporter": "python",
   "pygments_lexer": "ipython3",
   "version": "3.9.13"
  }
 },
 "nbformat": 4,
 "nbformat_minor": 5
}
