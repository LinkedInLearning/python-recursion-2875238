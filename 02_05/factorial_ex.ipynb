{
 "cells": [
  {
   "cell_type": "code",
   "execution_count": 2,
   "id": "1ea97abd-ff72-4d88-b044-50cc28c3e37c",
   "metadata": {},
   "outputs": [
    {
     "name": "stdout",
     "output_type": "stream",
     "text": [
      "|-- factorial(5)\n",
      "|  |-- factorial(4)\n",
      "|  |  |-- factorial(3)\n",
      "|  |  |  |-- factorial(2)\n",
      "|  |  |  |  |-- factorial(1)\n",
      "|  |  |  |  |  |-- return 1\n",
      "|  |  |  |  |-- return 2\n",
      "|  |  |  |-- return 6\n",
      "|  |  |-- return 24\n",
      "|  |-- return 120\n",
      "120\n"
     ]
    }
   ],
   "source": [
    "\"\"\"\n",
    "Python Recursion Video Course\n",
    "Robin Andrews - https://compucademy.net/\n",
    "\"\"\"\n",
    "import sys\n",
    "sys.path.append(\"..\")  # Adds higher directory to python modules path.\n",
    "from trace_recursion import trace\n",
    "\n",
    "\n",
    "\n",
    "def factorial(n):\n",
    "    if n <= 1:\n",
    "        # Base case\n",
    "        return 1\n",
    "    else:\n",
    "        # Recursive case\n",
    "        return n * factorial(n - 1)\n",
    "\n",
    "\n",
    "factorial = trace(factorial)\n",
    "print(factorial(5))\n"
   ]
  },
  {
   "cell_type": "code",
   "execution_count": null,
   "id": "bc7b716b-10ce-46e0-9e2a-1c09428288db",
   "metadata": {},
   "outputs": [],
   "source": []
  }
 ],
 "metadata": {
  "kernelspec": {
   "display_name": "Python 3 (ipykernel)",
   "language": "python",
   "name": "python3"
  },
  "language_info": {
   "codemirror_mode": {
    "name": "ipython",
    "version": 3
   },
   "file_extension": ".py",
   "mimetype": "text/x-python",
   "name": "python",
   "nbconvert_exporter": "python",
   "pygments_lexer": "ipython3",
   "version": "3.9.13"
  }
 },
 "nbformat": 4,
 "nbformat_minor": 5
}
