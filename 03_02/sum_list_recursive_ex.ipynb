{
 "cells": [
  {
   "cell_type": "code",
   "execution_count": 1,
   "id": "04cc0d2d-6b6c-4d9c-8c88-0463dca91123",
   "metadata": {},
   "outputs": [
    {
     "name": "stdout",
     "output_type": "stream",
     "text": [
      "Great job!\n"
     ]
    }
   ],
   "source": [
    "def list_sum(a_list):\n",
    "    result = 0 \n",
    "    for val in a_list:\n",
    "        result += val\n",
    "    return result\n",
    "\n",
    "\n",
    "def list_sum_recursive(a_list):\n",
    "    if len(a_list) == 0:\n",
    "        return 0\n",
    "    return a_list[0] + list_sum_recursive(a_list[1:])\n",
    "\n",
    "\n",
    "assert list_sum([2, 3, 5, 7]) == 17\n",
    "assert list_sum([-4, -3, -2, -1, 10]) == 0\n",
    "\n",
    "assert list_sum_recursive([2, 3, 5, 7]) == 17\n",
    "assert list_sum_recursive([-4, -3, -2, -1, 10]) == 0\n",
    "assert list_sum_recursive([]) == 0\n",
    "assert list_sum_recursive([3]) == 3\n",
    "assert list_sum_recursive([-5, -3]) == -8\n",
    "print('Great job!')"
   ]
  },
  {
   "cell_type": "code",
   "execution_count": 2,
   "id": "7c0829a2-50d7-494f-932e-87b9ee320aac",
   "metadata": {},
   "outputs": [
    {
     "data": {
      "text/plain": [
       "20"
      ]
     },
     "execution_count": 2,
     "metadata": {},
     "output_type": "execute_result"
    }
   ],
   "source": [
    "4 + 4 + 4 + 4 + 4"
   ]
  },
  {
   "cell_type": "code",
   "execution_count": 3,
   "id": "5173a58f-69e4-4b88-84df-4871ddb8d2ca",
   "metadata": {},
   "outputs": [
    {
     "data": {
      "text/plain": [
       "56"
      ]
     },
     "execution_count": 3,
     "metadata": {},
     "output_type": "execute_result"
    }
   ],
   "source": [
    "7 + 7 + 7 + 7 + 7 + 7 + 7 + 7"
   ]
  },
  {
   "cell_type": "code",
   "execution_count": null,
   "id": "3778b73c-d280-4c09-8090-1ce47fe4da5d",
   "metadata": {},
   "outputs": [],
   "source": []
  }
 ],
 "metadata": {
  "kernelspec": {
   "display_name": "Python 3 (ipykernel)",
   "language": "python",
   "name": "python3"
  },
  "language_info": {
   "codemirror_mode": {
    "name": "ipython",
    "version": 3
   },
   "file_extension": ".py",
   "mimetype": "text/x-python",
   "name": "python",
   "nbconvert_exporter": "python",
   "pygments_lexer": "ipython3",
   "version": "3.9.13"
  }
 },
 "nbformat": 4,
 "nbformat_minor": 5
}
