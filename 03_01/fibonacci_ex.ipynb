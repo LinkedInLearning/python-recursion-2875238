{
 "cells": [
  {
   "cell_type": "code",
   "execution_count": 4,
   "id": "0343ec05-93dd-4e2c-a3a2-fbecd9978666",
   "metadata": {
    "slideshow": {
     "slide_type": "slide"
    },
    "tags": []
   },
   "outputs": [
    {
     "name": "stdout",
     "output_type": "stream",
     "text": [
      "8\n",
      "34\n"
     ]
    }
   ],
   "source": [
    "\"\"\"\n",
    "Python Recursion Video Course\n",
    "Robin Andrews - https://compucademy.net/\n",
    "\"\"\"\n",
    "\n",
    "\n",
    "def fibonacci_iterative(n):\n",
    "    a, b = 0, 1\n",
    "    for i in range(n):\n",
    "        a, b = b, a + b\n",
    "    return a\n",
    "\n",
    "\n",
    "def fibonacci_recursive(n):\n",
    "    if n < 2:\n",
    "        return n\n",
    "    return fibonacci_recursive(n - 1) + fibonacci_recursive(n - 2)\n",
    "\n",
    "\n",
    "\n",
    "print(fibonacci_iterative(6))\n",
    "print(fibonacci_recursive(9))"
   ]
  },
  {
   "cell_type": "code",
   "execution_count": null,
   "id": "80ea795a-a2f1-430d-82ec-fbfc4028e36b",
   "metadata": {},
   "outputs": [],
   "source": []
  }
 ],
 "metadata": {
  "kernelspec": {
   "display_name": "Python 3 (ipykernel)",
   "language": "python",
   "name": "python3"
  },
  "language_info": {
   "codemirror_mode": {
    "name": "ipython",
    "version": 3
   },
   "file_extension": ".py",
   "mimetype": "text/x-python",
   "name": "python",
   "nbconvert_exporter": "python",
   "pygments_lexer": "ipython3",
   "version": "3.9.13"
  }
 },
 "nbformat": 4,
 "nbformat_minor": 5
}
