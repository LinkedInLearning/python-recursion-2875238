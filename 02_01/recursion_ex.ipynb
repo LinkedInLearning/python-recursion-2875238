{
 "cells": [
  {
   "cell_type": "code",
   "execution_count": 4,
   "id": "2159e03f-22c0-4c15-9891-da365556d590",
   "metadata": {},
   "outputs": [
    {
     "name": "stdout",
     "output_type": "stream",
     "text": [
      "1\n",
      "2\n",
      "3\n",
      "4\n",
      "5\n",
      "6\n",
      "7\n",
      "8\n",
      "9\n",
      "10\n"
     ]
    }
   ],
   "source": [
    "\"\"\"\n",
    "Python Recursion Video Course\n",
    "Robin Andrews - https://compucademy.net/\n",
    "\"\"\"\n",
    "\n",
    "# No base case, no movement towards base case.\n",
    "# count = 1\n",
    "# while True:\n",
    "#     print(count)\n",
    "\n",
    "# We have a base case, but no movement towards it.\n",
    "# count = 1\n",
    "# while True:\n",
    "#     if count > 10:\n",
    "#         break\n",
    "#     print(count)\n",
    "    \n",
    "# Base Case and movement towards it.\n",
    "count = 1\n",
    "while True:\n",
    "    if count > 10:\n",
    "        break\n",
    "    print(count)\n",
    "    count += 1"
   ]
  },
  {
   "cell_type": "code",
   "execution_count": null,
   "id": "548dd12a-0e53-4af4-ae4b-5068832f295e",
   "metadata": {},
   "outputs": [],
   "source": [
    "# This program displays a label with text.\n",
    "\n",
    "import tkinter\n",
    "\n",
    "class MyGUI:\n",
    "    def __init__(self):\n",
    "        # Create the main window widget.\n",
    "        self.main_window = tkinter.Tk()\n",
    "        \n",
    "        # Create two Label widgets.\n",
    "        self.label = tkinter.Label(self.main_window,\n",
    "                                   text = 'Hello World!')\n",
    "      \n",
    "        # Call both Label widgets' pack method.\n",
    "        self.label.pack()\n",
    "        \n",
    "        # Enter the tkinter main loop.\n",
    "        tkinter.mainloop()\n",
    "        \n",
    "# Create an instance of the MyGUI class.\n",
    "if __name__ == '__main__':\n",
    "    my_gui = MyGUI()"
   ]
  },
  {
   "cell_type": "code",
   "execution_count": 1,
   "id": "401dc6f1-f822-49fc-8bca-84c933603199",
   "metadata": {},
   "outputs": [
    {
     "ename": "NameError",
     "evalue": "name 'recursive_sum' is not defined",
     "output_type": "error",
     "traceback": [
      "\u001b[0;31m---------------------------------------------------------------------------\u001b[0m",
      "\u001b[0;31mNameError\u001b[0m                                 Traceback (most recent call last)",
      "Input \u001b[0;32mIn [1]\u001b[0m, in \u001b[0;36m<cell line: 3>\u001b[0;34m()\u001b[0m\n\u001b[1;32m      1\u001b[0m \u001b[38;5;66;03m# Test 1 for recursive_sum\u001b[39;00m\n\u001b[1;32m      2\u001b[0m numbers_list_one \u001b[38;5;241m=\u001b[39m [\u001b[38;5;241m1\u001b[39m, \u001b[38;5;241m2\u001b[39m, \u001b[38;5;241m3\u001b[39m, \u001b[38;5;241m4\u001b[39m, \u001b[38;5;241m5\u001b[39m]\n\u001b[0;32m----> 3\u001b[0m \u001b[38;5;28mprint\u001b[39m(\u001b[38;5;124m\"\u001b[39m\u001b[38;5;124mSum of numbers:\u001b[39m\u001b[38;5;124m\"\u001b[39m, \u001b[43mrecursive_sum\u001b[49m(numbers_list_one))\n",
      "\u001b[0;31mNameError\u001b[0m: name 'recursive_sum' is not defined"
     ]
    }
   ],
   "source": [
    "# Test 1 for recursive_sum\n",
    "numbers_list_one = [1, 2, 3, 4, 5]\n",
    "print(\"Sum of numbers:\", recursive_sum(numbers_list_one))"
   ]
  },
  {
   "cell_type": "code",
   "execution_count": null,
   "id": "1f437b55-cb52-4338-a1af-d0f75af954ec",
   "metadata": {},
   "outputs": [],
   "source": []
  }
 ],
 "metadata": {
  "kernelspec": {
   "display_name": "Python 3 (ipykernel)",
   "language": "python",
   "name": "python3"
  },
  "language_info": {
   "codemirror_mode": {
    "name": "ipython",
    "version": 3
   },
   "file_extension": ".py",
   "mimetype": "text/x-python",
   "name": "python",
   "nbconvert_exporter": "python",
   "pygments_lexer": "ipython3",
   "version": "3.9.13"
  }
 },
 "nbformat": 4,
 "nbformat_minor": 5
}
