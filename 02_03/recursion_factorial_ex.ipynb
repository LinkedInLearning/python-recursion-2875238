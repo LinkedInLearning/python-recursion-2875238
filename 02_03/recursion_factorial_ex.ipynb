{
 "cells": [
  {
   "cell_type": "code",
   "execution_count": 3,
   "id": "0fed2fe3-d66d-43df-af8c-07ea54eca546",
   "metadata": {},
   "outputs": [
    {
     "name": "stdout",
     "output_type": "stream",
     "text": [
      "Great Job!\n"
     ]
    }
   ],
   "source": [
    "\"\"\"\n",
    "Python Recursion Video Course\n",
    "Robin Andrews - https://compucademy.net/\n",
    "\"\"\"\n",
    "\n",
    "\n",
    "def factorial_iterative_while(n):  # Condition-controlled version\n",
    "    result = 1\n",
    "    while n >= 1:\n",
    "        result *= n\n",
    "        n -= 1\n",
    "    return result\n",
    "\n",
    "\n",
    "# Let's do some basic testing\n",
    "assert factorial_iterative_while(4) == 24\n",
    "assert factorial_iterative_while(6) == 720\n",
    "assert factorial_iterative_while(1) == 1\n",
    "assert factorial_iterative_while(0) == 1\n",
    "assert factorial_iterative_while(-7) == 1\n",
    "assert factorial_iterative_while(50) == 30414093201713378043612608166064768844377641568960512000000000000\n",
    "print('Great Job!')"
   ]
  },
  {
   "cell_type": "code",
   "execution_count": null,
   "id": "82e18350-0185-4e56-b4ca-43714dbf4b65",
   "metadata": {},
   "outputs": [],
   "source": []
  }
 ],
 "metadata": {
  "kernelspec": {
   "display_name": "Python 3 (ipykernel)",
   "language": "python",
   "name": "python3"
  },
  "language_info": {
   "codemirror_mode": {
    "name": "ipython",
    "version": 3
   },
   "file_extension": ".py",
   "mimetype": "text/x-python",
   "name": "python",
   "nbconvert_exporter": "python",
   "pygments_lexer": "ipython3",
   "version": "3.9.13"
  }
 },
 "nbformat": 4,
 "nbformat_minor": 5
}
