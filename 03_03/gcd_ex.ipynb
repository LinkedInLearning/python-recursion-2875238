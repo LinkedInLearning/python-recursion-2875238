{
 "cells": [
  {
   "cell_type": "code",
   "execution_count": 1,
   "id": "537abebb-645a-4749-93ef-5db59be2c01b",
   "metadata": {},
   "outputs": [
    {
     "name": "stdout",
     "output_type": "stream",
     "text": [
      "|-- gcd_recursive(32, 12)\n",
      "|  |-- gcd_recursive(12, 8)\n",
      "|  |  |-- gcd_recursive(8, 4)\n",
      "|  |  |  |-- gcd_recursive(4, 0)\n",
      "|  |  |  |  |-- return 4\n",
      "|  |  |  |-- return 4\n",
      "|  |  |-- return 4\n",
      "|  |-- return 4\n",
      "4\n",
      "|-- gcd_recursive(5, 4)\n",
      "|  |-- gcd_recursive(4, 1)\n",
      "|  |  |-- gcd_recursive(1, 0)\n",
      "|  |  |  |-- return 1\n",
      "|  |  |-- return 1\n",
      "|  |-- return 1\n",
      "1\n",
      "|-- gcd_recursive(50, 15)\n",
      "|  |-- gcd_recursive(15, 5)\n",
      "|  |  |-- gcd_recursive(5, 0)\n",
      "|  |  |  |-- return 5\n",
      "|  |  |-- return 5\n",
      "|  |-- return 5\n",
      "5\n",
      "|-- gcd_recursive(42, 28)\n",
      "|  |-- gcd_recursive(28, 14)\n",
      "|  |  |-- gcd_recursive(14, 0)\n",
      "|  |  |  |-- return 14\n",
      "|  |  |-- return 14\n",
      "|  |-- return 14\n",
      "14\n",
      "|-- gcd_recursive(28, 42)\n",
      "|  |-- gcd_recursive(42, 28)\n",
      "|  |  |-- gcd_recursive(28, 14)\n",
      "|  |  |  |-- gcd_recursive(14, 0)\n",
      "|  |  |  |  |-- return 14\n",
      "|  |  |  |-- return 14\n",
      "|  |  |-- return 14\n",
      "|  |-- return 14\n",
      "14\n",
      "|-- gcd_recursive(345, 766)\n",
      "|  |-- gcd_recursive(766, 345)\n",
      "|  |  |-- gcd_recursive(345, 76)\n",
      "|  |  |  |-- gcd_recursive(76, 41)\n",
      "|  |  |  |  |-- gcd_recursive(41, 35)\n",
      "|  |  |  |  |  |-- gcd_recursive(35, 6)\n",
      "|  |  |  |  |  |  |-- gcd_recursive(6, 5)\n",
      "|  |  |  |  |  |  |  |-- gcd_recursive(5, 1)\n",
      "|  |  |  |  |  |  |  |  |-- gcd_recursive(1, 0)\n",
      "|  |  |  |  |  |  |  |  |  |-- return 1\n",
      "|  |  |  |  |  |  |  |  |-- return 1\n",
      "|  |  |  |  |  |  |  |-- return 1\n",
      "|  |  |  |  |  |  |-- return 1\n",
      "|  |  |  |  |  |-- return 1\n",
      "|  |  |  |  |-- return 1\n",
      "|  |  |  |-- return 1\n",
      "|  |  |-- return 1\n",
      "|  |-- return 1\n",
      "1\n"
     ]
    }
   ],
   "source": [
    "\"\"\"\n",
    "Python Recursion Video Course\n",
    "Robin Andrews - https://compucademy.net/\n",
    "\"\"\"\n",
    "import sys\n",
    "# import os\n",
    "\n",
    "# # Get the absolute path of the parent directory\n",
    "# parent_dir = os.path.abspath(os.path.join(os.getcwd(), '..'))\n",
    "# sys.path.append(parent_dir)\n",
    "sys.path.append(\"..\")  # Adds higher directory to python modules path.\n",
    "from trace_recursion import trace\n",
    "\n",
    "\n",
    "def gcd_recursive(a, b):\n",
    "    if b == 0:\n",
    "        # Base case\n",
    "        return a\n",
    "    else:\n",
    "        # Recursive case\n",
    "        return gcd_recursive(b, a % b)\n",
    "\n",
    "gcd_recursive = trace(gcd_recursive)\n",
    "print(gcd_recursive(32, 12))  # From slides\n",
    "print(gcd_recursive(5, 4))  # From slides\n",
    "print(gcd_recursive(50, 15))\n",
    "print(gcd_recursive(42, 28))\n",
    "print(gcd_recursive(28, 42))\n",
    "print(gcd_recursive(345, 766))  # Co-prime"
   ]
  },
  {
   "cell_type": "code",
   "execution_count": null,
   "id": "4c029c1b-5b4d-4753-aa48-c78e9bfb2f2f",
   "metadata": {},
   "outputs": [],
   "source": [
    "import os\n",
    "print(\"Current Working Directory:\", os.getcwd())"
   ]
  },
  {
   "cell_type": "code",
   "execution_count": null,
   "id": "82407a45-3108-4eab-9bd8-6ef800ce4150",
   "metadata": {},
   "outputs": [],
   "source": [
    "import os\n",
    "\n",
    "parent_dir = os.path.abspath(os.path.join(os.getcwd(), '..'))\n",
    "file_path = os.path.join(parent_dir, 'trace_recursion.py')\n",
    "\n",
    "if os.path.exists(file_path):\n",
    "    print(\"File exists:\", file_path)\n",
    "else:\n",
    "    print(\"File not found:\", file_path)\n"
   ]
  },
  {
   "cell_type": "code",
   "execution_count": null,
   "id": "557bedec-cca5-4efd-831d-b461f5b0fd55",
   "metadata": {},
   "outputs": [],
   "source": []
  }
 ],
 "metadata": {
  "kernelspec": {
   "display_name": "Python 3 (ipykernel)",
   "language": "python",
   "name": "python3"
  },
  "language_info": {
   "codemirror_mode": {
    "name": "ipython",
    "version": 3
   },
   "file_extension": ".py",
   "mimetype": "text/x-python",
   "name": "python",
   "nbconvert_exporter": "python",
   "pygments_lexer": "ipython3",
   "version": "3.9.13"
  }
 },
 "nbformat": 4,
 "nbformat_minor": 5
}
