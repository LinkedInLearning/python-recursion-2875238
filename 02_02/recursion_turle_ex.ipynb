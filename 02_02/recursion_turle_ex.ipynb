{
 "cells": [
  {
   "cell_type": "code",
   "execution_count": 1,
   "id": "6ff1098a-7715-4d25-80f3-4584c8d7946a",
   "metadata": {},
   "outputs": [],
   "source": [
    "\"\"\"\n",
    "Python Recursion Video Course\n",
    "Robin Andrews - https://compucademy.net/\n",
    "\"\"\"\n",
    "\n",
    "import turtle\n",
    "\n",
    "MAX_LENGTH = 250\n",
    "INCREMENT = 10\n",
    "\n",
    "\n",
    "def draw_spiral(a_turtle, line_length):\n",
    "    if line_length > MAX_LENGTH:\n",
    "        return\n",
    "    a_turtle.forward(line_length)\n",
    "    a_turtle.right(90)\n",
    "    draw_spiral(a_turtle, line_length + INCREMENT)\n",
    "\n",
    "\n",
    "charlie = turtle.Turtle(shape=\"turtle\")\n",
    "charlie.pensize(5)\n",
    "charlie.color(\"red\")\n",
    "draw_spiral(charlie, 10)\n",
    "turtle.done()"
   ]
  },
  {
   "cell_type": "code",
   "execution_count": null,
   "id": "0ae017c7-55ee-40fe-96dd-d926bcc022ad",
   "metadata": {},
   "outputs": [],
   "source": []
  }
 ],
 "metadata": {
  "kernelspec": {
   "display_name": "Python 3 (ipykernel)",
   "language": "python",
   "name": "python3"
  },
  "language_info": {
   "codemirror_mode": {
    "name": "ipython",
    "version": 3
   },
   "file_extension": ".py",
   "mimetype": "text/x-python",
   "name": "python",
   "nbconvert_exporter": "python",
   "pygments_lexer": "ipython3",
   "version": "3.9.13"
  }
 },
 "nbformat": 4,
 "nbformat_minor": 5
}
