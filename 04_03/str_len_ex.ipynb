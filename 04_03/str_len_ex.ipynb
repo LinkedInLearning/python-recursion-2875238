{
 "cells": [
  {
   "cell_type": "code",
   "execution_count": 5,
   "id": "c464cb69-51f3-4b03-b9ac-0da8141e5b7f",
   "metadata": {},
   "outputs": [
    {
     "name": "stdout",
     "output_type": "stream",
     "text": [
      "16\n",
      "16\n",
      "16\n"
     ]
    }
   ],
   "source": [
    "\"\"\"\n",
    "Python Recursion Video Course\n",
    "Robin Andrews - https://compucademy.net/\n",
    "\"\"\"\n",
    "\n",
    "\n",
    "def iterative_str_len(a_str):\n",
    "    result = 0\n",
    "    for i in range(len(a_str)):\n",
    "        result += 1 # result = result + 1\n",
    "    return result\n",
    "\n",
    "\n",
    "def recursive_str_len(a_str):\n",
    "    if (a_str) == \"\":\n",
    "        return 0\n",
    "    return recursive_str_len(a_str[1:]) + 1\n",
    "\n",
    "\n",
    "input_str = \"I love recursion\"\n",
    "print(len(input_str))  # Standard Pythonic way\n",
    "print(iterative_str_len(input_str))\n",
    "print(recursive_str_len(input_str))"
   ]
  },
  {
   "cell_type": "code",
   "execution_count": null,
   "id": "58672a4e-956f-424f-aca1-98fb0ce0541f",
   "metadata": {},
   "outputs": [],
   "source": []
  }
 ],
 "metadata": {
  "kernelspec": {
   "display_name": "Python 3 (ipykernel)",
   "language": "python",
   "name": "python3"
  },
  "language_info": {
   "codemirror_mode": {
    "name": "ipython",
    "version": 3
   },
   "file_extension": ".py",
   "mimetype": "text/x-python",
   "name": "python",
   "nbconvert_exporter": "python",
   "pygments_lexer": "ipython3",
   "version": "3.9.13"
  }
 },
 "nbformat": 4,
 "nbformat_minor": 5
}
