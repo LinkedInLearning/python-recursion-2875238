{
 "cells": [
  {
   "cell_type": "code",
   "execution_count": 9,
   "id": "ab20c349-75a8-427b-851c-a857058588c5",
   "metadata": {},
   "outputs": [],
   "source": [
    "\"\"\"\n",
    "Python Recursion Video Course\n",
    "Robin Andrews - https://compucademy.net/\n",
    "\"\"\"\n",
    "\n",
    "def multiply_recursive(n, a):\n",
    "    # Base case\n",
    "    if n == 1:\n",
    "        return a\n",
    "    \n",
    "    # \n",
    "    return multiply_recursive(n-1, a) + a\n",
    "        \n",
    "\n",
    "assert multiply_recursive(5, 4) == 20  # 5 is the multiplier, 4 is the multiplicand\n",
    "assert multiply_recursive(5, -4) == -20  # 5 is the multiplier, -4 is the multiplicand\n",
    "assert multiply_recursive(1, 4) == 4  # 1 is the multiplier, 4 is the multiplicand\n",
    "assert multiply_recursive(7, 8) == 56  # 7 is the multiplier, 8 is the multiplicand"
   ]
  },
  {
   "cell_type": "code",
   "execution_count": null,
   "id": "7b8a15e1-4e9a-4f59-9d89-1e6cabe5937f",
   "metadata": {},
   "outputs": [],
   "source": []
  }
 ],
 "metadata": {
  "kernelspec": {
   "display_name": "Python 3 (ipykernel)",
   "language": "python",
   "name": "python3"
  },
  "language_info": {
   "codemirror_mode": {
    "name": "ipython",
    "version": 3
   },
   "file_extension": ".py",
   "mimetype": "text/x-python",
   "name": "python",
   "nbconvert_exporter": "python",
   "pygments_lexer": "ipython3",
   "version": "3.9.13"
  }
 },
 "nbformat": 4,
 "nbformat_minor": 5
}
