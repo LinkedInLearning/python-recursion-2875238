{
 "cells": [
  {
   "cell_type": "code",
   "execution_count": 2,
   "id": "1a225ebf-33d3-42d0-88ee-c5078ba9c304",
   "metadata": {},
   "outputs": [
    {
     "name": "stdout",
     "output_type": "stream",
     "text": [
      "24\n",
      "720\n",
      "1\n",
      "1\n",
      "1\n"
     ]
    }
   ],
   "source": [
    "\"\"\"\n",
    "Python Recursion Video Course\n",
    "Robin Andrews - https://compucademy.net/\n",
    "\"\"\"\n",
    "\n",
    "\n",
    "def factorial(n):\n",
    "    if n <= 1:\n",
    "        # Base Case\n",
    "        return 1\n",
    "    else:\n",
    "        # Recursive case\n",
    "        return n * factorial(n - 1)\n",
    "\n",
    "\n",
    "print(factorial(4))\n",
    "print(factorial(6))\n",
    "print(factorial(1))\n",
    "print(factorial(0))\n",
    "print(factorial(-7))\n",
    "# print(factorial(1000))  # RecursionError: maximum recursion depth exceeded in comparison"
   ]
  },
  {
   "cell_type": "code",
   "execution_count": null,
   "id": "55fa7539-003c-4298-9013-98350989959a",
   "metadata": {},
   "outputs": [],
   "source": []
  }
 ],
 "metadata": {
  "kernelspec": {
   "display_name": "Python 3 (ipykernel)",
   "language": "python",
   "name": "python3"
  },
  "language_info": {
   "codemirror_mode": {
    "name": "ipython",
    "version": 3
   },
   "file_extension": ".py",
   "mimetype": "text/x-python",
   "name": "python",
   "nbconvert_exporter": "python",
   "pygments_lexer": "ipython3",
   "version": "3.9.13"
  }
 },
 "nbformat": 4,
 "nbformat_minor": 5
}
