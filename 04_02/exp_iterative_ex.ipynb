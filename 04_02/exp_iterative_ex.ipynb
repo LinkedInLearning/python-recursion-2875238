{
 "cells": [
  {
   "cell_type": "code",
   "execution_count": 6,
   "id": "dd93a6a6-9c9b-4d86-aac7-19f893fd9779",
   "metadata": {},
   "outputs": [
    {
     "name": "stdout",
     "output_type": "stream",
     "text": [
      "Great job!\n",
      "Excellent!\n"
     ]
    }
   ],
   "source": [
    "\"\"\"\n",
    "Python Recursion Video Course\n",
    "Robin Andrews - https://compucademy.net/\n",
    "\"\"\"\n",
    "\n",
    "\n",
    "def exp_iterative(a, n):\n",
    "    base = a \n",
    "    for i in range(n-1):\n",
    "        a *= base\n",
    "    return a\n",
    "\n",
    "\n",
    "def exp_recursive(a, n):\n",
    "    if n == 1:\n",
    "        return a\n",
    "    # \n",
    "    return exp_recursive(a, n-1) * a\n",
    "        \n",
    "\n",
    "\n",
    "assert exp_iterative(5, 3) == 125\n",
    "assert exp_iterative(2, 4) == 16\n",
    "assert exp_iterative(1, 19) == 1\n",
    "assert exp_iterative(0, 2) == 0\n",
    "print('Great job!')\n",
    "\n",
    "assert exp_recursive(5, 3) == 125\n",
    "assert exp_recursive(2, 4) == 16\n",
    "assert exp_recursive(1, 19) == 1\n",
    "assert exp_recursive(0, 2) == 0\n",
    "print('Excellent!')"
   ]
  },
  {
   "cell_type": "code",
   "execution_count": null,
   "id": "f861db3f-e57d-40f2-906e-a6afc757dc06",
   "metadata": {},
   "outputs": [],
   "source": []
  }
 ],
 "metadata": {
  "kernelspec": {
   "display_name": "Python 3 (ipykernel)",
   "language": "python",
   "name": "python3"
  },
  "language_info": {
   "codemirror_mode": {
    "name": "ipython",
    "version": 3
   },
   "file_extension": ".py",
   "mimetype": "text/x-python",
   "name": "python",
   "nbconvert_exporter": "python",
   "pygments_lexer": "ipython3",
   "version": "3.9.13"
  }
 },
 "nbformat": 4,
 "nbformat_minor": 5
}
